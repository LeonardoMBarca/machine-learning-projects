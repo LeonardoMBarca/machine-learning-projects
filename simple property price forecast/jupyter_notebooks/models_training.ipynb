{
 "cells": [
  {
   "cell_type": "code",
   "execution_count": 1,
   "metadata": {},
   "outputs": [
    {
     "name": "stdout",
     "output_type": "stream",
     "text": [
      "Euclidean Distance between user1 and user2: 12.357184145265458\n",
      "Euclidean Distance between user2 and user3: 8.978864070694021\n",
      "Euclidean Distance between user1 and user3: 3.6469165057620945\n"
     ]
    }
   ],
   "source": [
    "import numpy as np\n",
    "\n",
    "# Sample user profiles (ratings movies out of 10)\n",
    "user1 = np.array([9.6, 7.8, 3, 9.8, 0])\n",
    "user2 = np.array([6.5, 6.8, 8, 2, 7.5])\n",
    "user3 = np.array([8.7, 8.5, 5, 7.8, 2])\n",
    "\n",
    "# Calculate Euclidean distance\n",
    "euclidean_distance12 = np.linalg.norm(user1 - user2)\n",
    "euclidean_distance23 = np.linalg.norm(user2 - user3)\n",
    "euclidean_distance13 = np.linalg.norm(user1 - user3)\n",
    "\n",
    "print(\"Euclidean Distance between user1 and user2:\", euclidean_distance12)\n",
    "print(\"Euclidean Distance between user2 and user3:\", euclidean_distance23)\n",
    "print(\"Euclidean Distance between user1 and user3:\", euclidean_distance13)"
   ]
  }
 ],
 "metadata": {
  "kernelspec": {
   "display_name": "Python 3",
   "language": "python",
   "name": "python3"
  },
  "language_info": {
   "codemirror_mode": {
    "name": "ipython",
    "version": 3
   },
   "file_extension": ".py",
   "mimetype": "text/x-python",
   "name": "python",
   "nbconvert_exporter": "python",
   "pygments_lexer": "ipython3",
   "version": "3.12.0"
  }
 },
 "nbformat": 4,
 "nbformat_minor": 2
}
