{
 "cells": [
  {
   "cell_type": "markdown",
   "metadata": {},
   "source": []
  },
  {
   "cell_type": "code",
   "execution_count": 191,
   "metadata": {},
   "outputs": [],
   "source": [
    "import pandas as pd\n",
    "import numpy as np\n",
    "import matplotlib.pyplot as plt\n",
    "import seaborn as sns"
   ]
  },
  {
   "cell_type": "markdown",
   "metadata": {},
   "source": []
  },
  {
   "cell_type": "code",
   "execution_count": 192,
   "metadata": {},
   "outputs": [],
   "source": [
    "train_data = r\"C:\\Users\\leona\\Desktop\\projetos_github\\machine_learning_projects\\machine-learning-projects\\simple property price forecast\\processed_data\\train.csv\"\n",
    "test_data = r\"C:\\Users\\leona\\Desktop\\projetos_github\\machine_learning_projects\\machine-learning-projects\\simple property price forecast\\processed_data\\test.csv\"\n",
    "complete_data = r\"C:\\Users\\leona\\Desktop\\projetos_github\\machine_learning_projects\\machine-learning-projects\\simple property price forecast\\processed_data\\complete.csv\""
   ]
  },
  {
   "cell_type": "code",
   "execution_count": 193,
   "metadata": {},
   "outputs": [],
   "source": [
    "df_train = pd.read_csv(train_data)\n",
    "df_test = pd.read_csv(test_data)\n",
    "df_complete = pd.read_csv(complete_data)\n",
    "\n",
    "x_train = df_train.drop(columns=[\"price\"], axis=1)\n",
    "x_test = df_test.drop(columns=[\"price\"], axis=1)\n",
    "y_train = df_train[\"price\"]\n",
    "y_test = df_test[\"price\"]"
   ]
  },
  {
   "cell_type": "markdown",
   "metadata": {},
   "source": []
  },
  {
   "cell_type": "code",
   "execution_count": null,
   "metadata": {},
   "outputs": [],
   "source": []
  },
  {
   "cell_type": "markdown",
   "metadata": {},
   "source": []
  },
  {
   "cell_type": "code",
   "execution_count": 194,
   "metadata": {},
   "outputs": [
    {
     "name": "stderr",
     "output_type": "stream",
     "text": [
      "  0%|          | 0/42 [00:00<?, ?it/s]"
     ]
    },
    {
     "name": "stderr",
     "output_type": "stream",
     "text": [
      "  5%|▍         | 2/42 [00:00<00:10,  3.81it/s]"
     ]
    },
    {
     "name": "stdout",
     "output_type": "stream",
     "text": [
      "{'Model': 'AdaBoostRegressor', 'R-Squared': 0.9482893628185736, 'Adjusted R-Squared': 0.9457812862648382, 'RMSE': 86954.47432330731, 'Time taken': 0.3775911331176758}\n",
      "{'Model': 'BaggingRegressor', 'R-Squared': 0.9903094649851992, 'Adjusted R-Squared': 0.9898394533011718, 'RMSE': 37642.27532388935, 'Time taken': 0.18021178245544434}\n"
     ]
    },
    {
     "name": "stderr",
     "output_type": "stream",
     "text": [
      " 17%|█▋        | 7/42 [00:00<00:02, 12.09it/s]"
     ]
    },
    {
     "name": "stdout",
     "output_type": "stream",
     "text": [
      "{'Model': 'BayesianRidge', 'R-Squared': -6.957794580492482, 'Adjusted R-Squared': -7.3437646457374814, 'RMSE': 1078694.2195323142, 'Time taken': 0.18625950813293457}\n",
      "{'Model': 'DecisionTreeRegressor', 'R-Squared': 0.9986716764128971, 'Adjusted R-Squared': 0.9986072498765755, 'RMSE': 13936.506817678748, 'Time taken': 0.033472299575805664}\n",
      "{'Model': 'DummyRegressor', 'R-Squared': -5.866514558316993e-05, 'Adjusted R-Squared': -0.048563650330960995, 'RMSE': 382397.2214188182, 'Time taken': 0.008608579635620117}\n",
      "{'Model': 'ElasticNet', 'R-Squared': 0.9557145746638067, 'Adjusted R-Squared': 0.9535666367730355, 'RMSE': 80469.70318639945, 'Time taken': 0.009524345397949219}\n",
      "{'Model': 'ElasticNetCV', 'R-Squared': 0.008753099401254127, 'Adjusted R-Squared': -0.0393244963481858, 'RMSE': 380708.7955989545, 'Time taken': 0.05559206008911133}\n",
      "{'Model': 'ExtraTreeRegressor', 'R-Squared': 0.937710103772186, 'Adjusted R-Squared': 0.9346889105171993, 'RMSE': 95435.68455364123, 'Time taken': 0.019109010696411133}\n"
     ]
    },
    {
     "name": "stderr",
     "output_type": "stream",
     "text": [
      " 21%|██▏       | 9/42 [00:01<00:07,  4.20it/s]"
     ]
    },
    {
     "name": "stdout",
     "output_type": "stream",
     "text": [
      "{'Model': 'ExtraTreesRegressor', 'R-Squared': 0.9946263934744034, 'Adjusted R-Squared': 0.9943657620594671, 'RMSE': 28030.76307897455, 'Time taken': 1.0567710399627686}\n",
      "{'Model': 'GammaRegressor', 'R-Squared': 0.6781833132024722, 'Adjusted R-Squared': 0.6625745152693538, 'RMSE': 216923.33315269728, 'Time taken': 0.01987290382385254}\n"
     ]
    },
    {
     "name": "stderr",
     "output_type": "stream",
     "text": [
      " 26%|██▌       | 11/42 [00:03<00:11,  2.61it/s]"
     ]
    },
    {
     "name": "stdout",
     "output_type": "stream",
     "text": [
      "{'Model': 'GaussianProcessRegressor', 'R-Squared': -0.6798465913101233, 'Adjusted R-Squared': -0.7613227455248797, 'RMSE': 495606.279685262, 'Time taken': 1.3384058475494385}\n"
     ]
    },
    {
     "name": "stderr",
     "output_type": "stream",
     "text": [
      " 29%|██▊       | 12/42 [00:04<00:13,  2.24it/s]"
     ]
    },
    {
     "name": "stdout",
     "output_type": "stream",
     "text": [
      "{'Model': 'GradientBoostingRegressor', 'R-Squared': 0.9995721969447456, 'Adjusted R-Squared': 0.9995514475811527, 'RMSE': 7909.042882376086, 'Time taken': 0.7234435081481934}\n"
     ]
    },
    {
     "name": "stderr",
     "output_type": "stream",
     "text": [
      " 31%|███       | 13/42 [00:05<00:20,  1.39it/s]"
     ]
    },
    {
     "name": "stdout",
     "output_type": "stream",
     "text": [
      "{'Model': 'HistGradientBoostingRegressor', 'R-Squared': 0.8585447209450733, 'Adjusted R-Squared': 0.8516838372248628, 'RMSE': 143817.4450794588, 'Time taken': 1.719834566116333}\n"
     ]
    },
    {
     "name": "stderr",
     "output_type": "stream",
     "text": [
      " 33%|███▎      | 14/42 [00:06<00:19,  1.46it/s]"
     ]
    },
    {
     "name": "stdout",
     "output_type": "stream",
     "text": [
      "{'Model': 'HuberRegressor', 'R-Squared': 0.9999999999996386, 'Adjusted R-Squared': 0.9999999999996211, 'RMSE': 0.22985818951886866, 'Time taken': 0.5642869472503662}\n",
      "{'Model': 'KNeighborsRegressor', 'R-Squared': 0.7430097501072378, 'Adjusted R-Squared': 0.7305451730796289, 'RMSE': 193847.54833131636, 'Time taken': 0.044317007064819336}\n"
     ]
    },
    {
     "name": "stderr",
     "output_type": "stream",
     "text": [
      " 48%|████▊     | 20/42 [00:07<00:06,  3.31it/s]"
     ]
    },
    {
     "name": "stdout",
     "output_type": "stream",
     "text": [
      "{'Model': 'KernelRidge', 'R-Squared': -1.1867465688501353, 'Adjusted R-Squared': -1.2928084566402989, 'RMSE': 565459.1242219715, 'Time taken': 0.8942043781280518}\n",
      "{'Model': 'Lars', 'R-Squared': 1.0, 'Adjusted R-Squared': 1.0, 'RMSE': 7.902933990499348e-10, 'Time taken': 0.02116847038269043}\n",
      "{'Model': 'LarsCV', 'R-Squared': 1.0, 'Adjusted R-Squared': 1.0, 'RMSE': 7.902933990499348e-10, 'Time taken': 0.04374980926513672}\n",
      "{'Model': 'Lasso', 'R-Squared': 0.9999999903692992, 'Adjusted R-Squared': 0.9999999899021896, 'RMSE': 37.5258842731937, 'Time taken': 0.018851041793823242}\n",
      "{'Model': 'LassoCV', 'R-Squared': 0.9999989999413349, 'Adjusted R-Squared': 0.9999989514363498, 'RMSE': 382.3972214192206, 'Time taken': 0.08742976188659668}\n",
      "{'Model': 'LassoLars', 'R-Squared': 0.9999999999975547, 'Adjusted R-Squared': 0.9999999999974362, 'RMSE': 0.5979457513159206, 'Time taken': 0.026083707809448242}\n"
     ]
    },
    {
     "name": "stderr",
     "output_type": "stream",
     "text": [
      " 55%|█████▍    | 23/42 [00:07<00:04,  4.56it/s]"
     ]
    },
    {
     "name": "stdout",
     "output_type": "stream",
     "text": [
      "{'Model': 'LassoLarsCV', 'R-Squared': 1.0, 'Adjusted R-Squared': 1.0, 'RMSE': 7.902933990499348e-10, 'Time taken': 0.04852700233459473}\n",
      "{'Model': 'LassoLarsIC', 'R-Squared': 1.0, 'Adjusted R-Squared': 1.0, 'RMSE': 7.902933990499348e-10, 'Time taken': 0.14634180068969727}\n"
     ]
    },
    {
     "name": "stderr",
     "output_type": "stream",
     "text": [
      " 60%|█████▉    | 25/42 [00:07<00:03,  5.33it/s]"
     ]
    },
    {
     "name": "stdout",
     "output_type": "stream",
     "text": [
      "{'Model': 'LinearRegression', 'R-Squared': 1.0, 'Adjusted R-Squared': 1.0, 'RMSE': 1.243883005840133e-09, 'Time taken': 0.17107391357421875}\n",
      "{'Model': 'LinearSVR', 'R-Squared': -2.1866435573986758, 'Adjusted R-Squared': -2.341202588713305, 'RMSE': 682603.8499123451, 'Time taken': 0.019542217254638672}\n",
      "{'Model': 'MLPRegressor', 'R-Squared': -2.141010953182414, 'Adjusted R-Squared': -2.293356705547895, 'RMSE': 677698.7970764093, 'Time taken': 6.920721530914307}\n"
     ]
    },
    {
     "name": "stderr",
     "output_type": "stream",
     "text": [
      " 64%|██████▍   | 27/42 [00:15<00:16,  1.11s/it]"
     ]
    },
    {
     "name": "stdout",
     "output_type": "stream",
     "text": [
      "{'Model': 'NuSVR', 'R-Squared': -0.03079528390910613, 'Adjusted R-Squared': -0.08079106087474042, 'RMSE': 388229.20338298957, 'Time taken': 0.35393786430358887}\n",
      "{'Model': 'OrthogonalMatchingPursuit', 'R-Squared': 1.0, 'Adjusted R-Squared': 1.0, 'RMSE': 8.096856437624536e-10, 'Time taken': 0.020473003387451172}\n",
      "{'Model': 'OrthogonalMatchingPursuitCV', 'R-Squared': 1.0, 'Adjusted R-Squared': 1.0, 'RMSE': 7.954433726036155e-10, 'Time taken': 0.03226733207702637}\n"
     ]
    },
    {
     "name": "stderr",
     "output_type": "stream",
     "text": [
      " 71%|███████▏  | 30/42 [00:15<00:09,  1.33it/s]"
     ]
    },
    {
     "name": "stdout",
     "output_type": "stream",
     "text": [
      "{'Model': 'PassiveAggressiveRegressor', 'R-Squared': 0.9844925355227628, 'Adjusted R-Squared': 0.98374039031274, 'RMSE': 47618.135537989234, 'Time taken': 0.3176414966583252}\n",
      "{'Model': 'PoissonRegressor', 'R-Squared': 0.6741195259943369, 'Adjusted R-Squared': 0.658313625685931, 'RMSE': 218288.65201710258, 'Time taken': 0.05560755729675293}\n"
     ]
    },
    {
     "name": "stderr",
     "output_type": "stream",
     "text": [
      " 79%|███████▊  | 33/42 [00:16<00:04,  1.83it/s]"
     ]
    },
    {
     "name": "stdout",
     "output_type": "stream",
     "text": [
      "{'Model': 'QuantileRegressor', 'R-Squared': -0.0662004455392895, 'Adjusted R-Squared': -0.1179134486039628, 'RMSE': 394840.2508678834, 'Time taken': 0.3917837142944336}\n",
      "{'Model': 'RANSACRegressor', 'R-Squared': 1.0, 'Adjusted R-Squared': 1.0, 'RMSE': 1.0718804451857257e-09, 'Time taken': 0.15816187858581543}\n"
     ]
    },
    {
     "name": "stderr",
     "output_type": "stream",
     "text": [
      " 81%|████████  | 34/42 [00:18<00:06,  1.21it/s]"
     ]
    },
    {
     "name": "stdout",
     "output_type": "stream",
     "text": [
      "{'Model': 'RandomForestRegressor', 'R-Squared': 0.9944277977197483, 'Adjusted R-Squared': 0.9941575339857561, 'RMSE': 28544.039005662908, 'Time taken': 2.0819013118743896}\n",
      "{'Model': 'Ridge', 'R-Squared': 0.9999999495358796, 'Adjusted R-Squared': 0.9999999470882618, 'RMSE': 85.90003553960031, 'Time taken': 0.013422250747680664}\n",
      "{'Model': 'RidgeCV', 'R-Squared': 0.999999999494905, 'Adjusted R-Squared': 0.9999999994704069, 'RMSE': 8.593864618107148, 'Time taken': 0.018304824829101562}\n",
      "{'Model': 'SGDRegressor', 'R-Squared': 0.999999996885603, 'Adjusted R-Squared': 0.9999999967345481, 'RMSE': 21.339732614200297, 'Time taken': 0.018999576568603516}\n"
     ]
    },
    {
     "name": "stderr",
     "output_type": "stream",
     "text": [
      " 95%|█████████▌| 40/42 [00:18<00:00,  2.71it/s]"
     ]
    },
    {
     "name": "stdout",
     "output_type": "stream",
     "text": [
      "{'Model': 'SVR', 'R-Squared': -0.06530302254862352, 'Adjusted R-Squared': -0.11697249867794346, 'RMSE': 394674.04698307667, 'Time taken': 0.5751886367797852}\n",
      "{'Model': 'TransformedTargetRegressor', 'R-Squared': 1.0, 'Adjusted R-Squared': 1.0, 'RMSE': 1.243883005840133e-09, 'Time taken': 0.07397770881652832}\n",
      "{'Model': 'TweedieRegressor', 'R-Squared': 0.8932212680933472, 'Adjusted R-Squared': 0.8880422711107135, 'RMSE': 124952.33285382182, 'Time taken': 0.03010725975036621}\n"
     ]
    },
    {
     "name": "stderr",
     "output_type": "stream",
     "text": [
      " 98%|█████████▊| 41/42 [00:19<00:00,  2.97it/s]"
     ]
    },
    {
     "name": "stdout",
     "output_type": "stream",
     "text": [
      "{'Model': 'XGBRegressor', 'R-Squared': 0.9900667700554016, 'Adjusted R-Squared': 0.9895849871479603, 'RMSE': 38110.727037540535, 'Time taken': 0.1616039276123047}\n",
      "[LightGBM] [Info] Auto-choosing col-wise multi-threading, the overhead of testing was 0.001327 seconds.\n",
      "You can set `force_col_wise=true` to remove the overhead.\n",
      "[LightGBM] [Info] Total Bins 1525\n",
      "[LightGBM] [Info] Number of data points in the train set: 2940, number of used features: 32\n",
      "[LightGBM] [Info] Start training from score 565456.989570\n"
     ]
    },
    {
     "name": "stderr",
     "output_type": "stream",
     "text": [
      "100%|██████████| 42/42 [00:19<00:00,  2.18it/s]"
     ]
    },
    {
     "name": "stdout",
     "output_type": "stream",
     "text": [
      "{'Model': 'LGBMRegressor', 'R-Squared': 0.8612265154920216, 'Adjusted R-Squared': 0.8544957045458428, 'RMSE': 142447.6326215941, 'Time taken': 0.20696043968200684}\n"
     ]
    },
    {
     "name": "stderr",
     "output_type": "stream",
     "text": [
      "\n"
     ]
    },
    {
     "data": {
      "text/html": [
       "<div>\n",
       "<style scoped>\n",
       "    .dataframe tbody tr th:only-of-type {\n",
       "        vertical-align: middle;\n",
       "    }\n",
       "\n",
       "    .dataframe tbody tr th {\n",
       "        vertical-align: top;\n",
       "    }\n",
       "\n",
       "    .dataframe thead th {\n",
       "        text-align: right;\n",
       "    }\n",
       "</style>\n",
       "<table border=\"1\" class=\"dataframe\">\n",
       "  <thead>\n",
       "    <tr style=\"text-align: right;\">\n",
       "      <th></th>\n",
       "      <th>Adjusted R-Squared</th>\n",
       "      <th>R-Squared</th>\n",
       "      <th>RMSE</th>\n",
       "      <th>Time Taken</th>\n",
       "    </tr>\n",
       "    <tr>\n",
       "      <th>Model</th>\n",
       "      <th></th>\n",
       "      <th></th>\n",
       "      <th></th>\n",
       "      <th></th>\n",
       "    </tr>\n",
       "  </thead>\n",
       "  <tbody>\n",
       "    <tr>\n",
       "      <th>LassoLarsCV</th>\n",
       "      <td>1.00</td>\n",
       "      <td>1.00</td>\n",
       "      <td>0.00</td>\n",
       "      <td>0.05</td>\n",
       "    </tr>\n",
       "    <tr>\n",
       "      <th>OrthogonalMatchingPursuit</th>\n",
       "      <td>1.00</td>\n",
       "      <td>1.00</td>\n",
       "      <td>0.00</td>\n",
       "      <td>0.02</td>\n",
       "    </tr>\n",
       "    <tr>\n",
       "      <th>LassoLarsIC</th>\n",
       "      <td>1.00</td>\n",
       "      <td>1.00</td>\n",
       "      <td>0.00</td>\n",
       "      <td>0.15</td>\n",
       "    </tr>\n",
       "    <tr>\n",
       "      <th>LarsCV</th>\n",
       "      <td>1.00</td>\n",
       "      <td>1.00</td>\n",
       "      <td>0.00</td>\n",
       "      <td>0.04</td>\n",
       "    </tr>\n",
       "    <tr>\n",
       "      <th>Lars</th>\n",
       "      <td>1.00</td>\n",
       "      <td>1.00</td>\n",
       "      <td>0.00</td>\n",
       "      <td>0.02</td>\n",
       "    </tr>\n",
       "    <tr>\n",
       "      <th>OrthogonalMatchingPursuitCV</th>\n",
       "      <td>1.00</td>\n",
       "      <td>1.00</td>\n",
       "      <td>0.00</td>\n",
       "      <td>0.03</td>\n",
       "    </tr>\n",
       "    <tr>\n",
       "      <th>RANSACRegressor</th>\n",
       "      <td>1.00</td>\n",
       "      <td>1.00</td>\n",
       "      <td>0.00</td>\n",
       "      <td>0.16</td>\n",
       "    </tr>\n",
       "    <tr>\n",
       "      <th>LinearRegression</th>\n",
       "      <td>1.00</td>\n",
       "      <td>1.00</td>\n",
       "      <td>0.00</td>\n",
       "      <td>0.17</td>\n",
       "    </tr>\n",
       "    <tr>\n",
       "      <th>TransformedTargetRegressor</th>\n",
       "      <td>1.00</td>\n",
       "      <td>1.00</td>\n",
       "      <td>0.00</td>\n",
       "      <td>0.07</td>\n",
       "    </tr>\n",
       "    <tr>\n",
       "      <th>HuberRegressor</th>\n",
       "      <td>1.00</td>\n",
       "      <td>1.00</td>\n",
       "      <td>0.23</td>\n",
       "      <td>0.56</td>\n",
       "    </tr>\n",
       "    <tr>\n",
       "      <th>LassoLars</th>\n",
       "      <td>1.00</td>\n",
       "      <td>1.00</td>\n",
       "      <td>0.60</td>\n",
       "      <td>0.03</td>\n",
       "    </tr>\n",
       "    <tr>\n",
       "      <th>RidgeCV</th>\n",
       "      <td>1.00</td>\n",
       "      <td>1.00</td>\n",
       "      <td>8.59</td>\n",
       "      <td>0.02</td>\n",
       "    </tr>\n",
       "    <tr>\n",
       "      <th>SGDRegressor</th>\n",
       "      <td>1.00</td>\n",
       "      <td>1.00</td>\n",
       "      <td>21.34</td>\n",
       "      <td>0.02</td>\n",
       "    </tr>\n",
       "    <tr>\n",
       "      <th>Lasso</th>\n",
       "      <td>1.00</td>\n",
       "      <td>1.00</td>\n",
       "      <td>37.53</td>\n",
       "      <td>0.02</td>\n",
       "    </tr>\n",
       "    <tr>\n",
       "      <th>Ridge</th>\n",
       "      <td>1.00</td>\n",
       "      <td>1.00</td>\n",
       "      <td>85.90</td>\n",
       "      <td>0.01</td>\n",
       "    </tr>\n",
       "    <tr>\n",
       "      <th>LassoCV</th>\n",
       "      <td>1.00</td>\n",
       "      <td>1.00</td>\n",
       "      <td>382.40</td>\n",
       "      <td>0.09</td>\n",
       "    </tr>\n",
       "    <tr>\n",
       "      <th>GradientBoostingRegressor</th>\n",
       "      <td>1.00</td>\n",
       "      <td>1.00</td>\n",
       "      <td>7909.04</td>\n",
       "      <td>0.72</td>\n",
       "    </tr>\n",
       "    <tr>\n",
       "      <th>DecisionTreeRegressor</th>\n",
       "      <td>1.00</td>\n",
       "      <td>1.00</td>\n",
       "      <td>13936.51</td>\n",
       "      <td>0.03</td>\n",
       "    </tr>\n",
       "    <tr>\n",
       "      <th>ExtraTreesRegressor</th>\n",
       "      <td>0.99</td>\n",
       "      <td>0.99</td>\n",
       "      <td>28030.76</td>\n",
       "      <td>1.06</td>\n",
       "    </tr>\n",
       "    <tr>\n",
       "      <th>RandomForestRegressor</th>\n",
       "      <td>0.99</td>\n",
       "      <td>0.99</td>\n",
       "      <td>28544.04</td>\n",
       "      <td>2.08</td>\n",
       "    </tr>\n",
       "    <tr>\n",
       "      <th>BaggingRegressor</th>\n",
       "      <td>0.99</td>\n",
       "      <td>0.99</td>\n",
       "      <td>37642.28</td>\n",
       "      <td>0.18</td>\n",
       "    </tr>\n",
       "    <tr>\n",
       "      <th>XGBRegressor</th>\n",
       "      <td>0.99</td>\n",
       "      <td>0.99</td>\n",
       "      <td>38110.73</td>\n",
       "      <td>0.16</td>\n",
       "    </tr>\n",
       "    <tr>\n",
       "      <th>PassiveAggressiveRegressor</th>\n",
       "      <td>0.98</td>\n",
       "      <td>0.98</td>\n",
       "      <td>47618.14</td>\n",
       "      <td>0.32</td>\n",
       "    </tr>\n",
       "    <tr>\n",
       "      <th>ElasticNet</th>\n",
       "      <td>0.95</td>\n",
       "      <td>0.96</td>\n",
       "      <td>80469.70</td>\n",
       "      <td>0.01</td>\n",
       "    </tr>\n",
       "    <tr>\n",
       "      <th>AdaBoostRegressor</th>\n",
       "      <td>0.95</td>\n",
       "      <td>0.95</td>\n",
       "      <td>86954.47</td>\n",
       "      <td>0.38</td>\n",
       "    </tr>\n",
       "    <tr>\n",
       "      <th>ExtraTreeRegressor</th>\n",
       "      <td>0.93</td>\n",
       "      <td>0.94</td>\n",
       "      <td>95435.68</td>\n",
       "      <td>0.02</td>\n",
       "    </tr>\n",
       "    <tr>\n",
       "      <th>TweedieRegressor</th>\n",
       "      <td>0.89</td>\n",
       "      <td>0.89</td>\n",
       "      <td>124952.33</td>\n",
       "      <td>0.03</td>\n",
       "    </tr>\n",
       "    <tr>\n",
       "      <th>LGBMRegressor</th>\n",
       "      <td>0.85</td>\n",
       "      <td>0.86</td>\n",
       "      <td>142447.63</td>\n",
       "      <td>0.21</td>\n",
       "    </tr>\n",
       "    <tr>\n",
       "      <th>HistGradientBoostingRegressor</th>\n",
       "      <td>0.85</td>\n",
       "      <td>0.86</td>\n",
       "      <td>143817.45</td>\n",
       "      <td>1.72</td>\n",
       "    </tr>\n",
       "    <tr>\n",
       "      <th>KNeighborsRegressor</th>\n",
       "      <td>0.73</td>\n",
       "      <td>0.74</td>\n",
       "      <td>193847.55</td>\n",
       "      <td>0.04</td>\n",
       "    </tr>\n",
       "    <tr>\n",
       "      <th>GammaRegressor</th>\n",
       "      <td>0.66</td>\n",
       "      <td>0.68</td>\n",
       "      <td>216923.33</td>\n",
       "      <td>0.02</td>\n",
       "    </tr>\n",
       "    <tr>\n",
       "      <th>PoissonRegressor</th>\n",
       "      <td>0.66</td>\n",
       "      <td>0.67</td>\n",
       "      <td>218288.65</td>\n",
       "      <td>0.06</td>\n",
       "    </tr>\n",
       "    <tr>\n",
       "      <th>ElasticNetCV</th>\n",
       "      <td>-0.04</td>\n",
       "      <td>0.01</td>\n",
       "      <td>380708.80</td>\n",
       "      <td>0.06</td>\n",
       "    </tr>\n",
       "    <tr>\n",
       "      <th>DummyRegressor</th>\n",
       "      <td>-0.05</td>\n",
       "      <td>-0.00</td>\n",
       "      <td>382397.22</td>\n",
       "      <td>0.01</td>\n",
       "    </tr>\n",
       "    <tr>\n",
       "      <th>NuSVR</th>\n",
       "      <td>-0.08</td>\n",
       "      <td>-0.03</td>\n",
       "      <td>388229.20</td>\n",
       "      <td>0.35</td>\n",
       "    </tr>\n",
       "    <tr>\n",
       "      <th>SVR</th>\n",
       "      <td>-0.12</td>\n",
       "      <td>-0.07</td>\n",
       "      <td>394674.05</td>\n",
       "      <td>0.58</td>\n",
       "    </tr>\n",
       "    <tr>\n",
       "      <th>QuantileRegressor</th>\n",
       "      <td>-0.12</td>\n",
       "      <td>-0.07</td>\n",
       "      <td>394840.25</td>\n",
       "      <td>0.39</td>\n",
       "    </tr>\n",
       "    <tr>\n",
       "      <th>GaussianProcessRegressor</th>\n",
       "      <td>-0.76</td>\n",
       "      <td>-0.68</td>\n",
       "      <td>495606.28</td>\n",
       "      <td>1.34</td>\n",
       "    </tr>\n",
       "    <tr>\n",
       "      <th>KernelRidge</th>\n",
       "      <td>-1.29</td>\n",
       "      <td>-1.19</td>\n",
       "      <td>565459.12</td>\n",
       "      <td>0.89</td>\n",
       "    </tr>\n",
       "    <tr>\n",
       "      <th>MLPRegressor</th>\n",
       "      <td>-2.29</td>\n",
       "      <td>-2.14</td>\n",
       "      <td>677698.80</td>\n",
       "      <td>6.92</td>\n",
       "    </tr>\n",
       "    <tr>\n",
       "      <th>LinearSVR</th>\n",
       "      <td>-2.34</td>\n",
       "      <td>-2.19</td>\n",
       "      <td>682603.85</td>\n",
       "      <td>0.02</td>\n",
       "    </tr>\n",
       "    <tr>\n",
       "      <th>BayesianRidge</th>\n",
       "      <td>-7.34</td>\n",
       "      <td>-6.96</td>\n",
       "      <td>1078694.22</td>\n",
       "      <td>0.19</td>\n",
       "    </tr>\n",
       "  </tbody>\n",
       "</table>\n",
       "</div>"
      ],
      "text/plain": [
       "                               Adjusted R-Squared  R-Squared       RMSE  \\\n",
       "Model                                                                     \n",
       "LassoLarsCV                                  1.00       1.00       0.00   \n",
       "OrthogonalMatchingPursuit                    1.00       1.00       0.00   \n",
       "LassoLarsIC                                  1.00       1.00       0.00   \n",
       "LarsCV                                       1.00       1.00       0.00   \n",
       "Lars                                         1.00       1.00       0.00   \n",
       "OrthogonalMatchingPursuitCV                  1.00       1.00       0.00   \n",
       "RANSACRegressor                              1.00       1.00       0.00   \n",
       "LinearRegression                             1.00       1.00       0.00   \n",
       "TransformedTargetRegressor                   1.00       1.00       0.00   \n",
       "HuberRegressor                               1.00       1.00       0.23   \n",
       "LassoLars                                    1.00       1.00       0.60   \n",
       "RidgeCV                                      1.00       1.00       8.59   \n",
       "SGDRegressor                                 1.00       1.00      21.34   \n",
       "Lasso                                        1.00       1.00      37.53   \n",
       "Ridge                                        1.00       1.00      85.90   \n",
       "LassoCV                                      1.00       1.00     382.40   \n",
       "GradientBoostingRegressor                    1.00       1.00    7909.04   \n",
       "DecisionTreeRegressor                        1.00       1.00   13936.51   \n",
       "ExtraTreesRegressor                          0.99       0.99   28030.76   \n",
       "RandomForestRegressor                        0.99       0.99   28544.04   \n",
       "BaggingRegressor                             0.99       0.99   37642.28   \n",
       "XGBRegressor                                 0.99       0.99   38110.73   \n",
       "PassiveAggressiveRegressor                   0.98       0.98   47618.14   \n",
       "ElasticNet                                   0.95       0.96   80469.70   \n",
       "AdaBoostRegressor                            0.95       0.95   86954.47   \n",
       "ExtraTreeRegressor                           0.93       0.94   95435.68   \n",
       "TweedieRegressor                             0.89       0.89  124952.33   \n",
       "LGBMRegressor                                0.85       0.86  142447.63   \n",
       "HistGradientBoostingRegressor                0.85       0.86  143817.45   \n",
       "KNeighborsRegressor                          0.73       0.74  193847.55   \n",
       "GammaRegressor                               0.66       0.68  216923.33   \n",
       "PoissonRegressor                             0.66       0.67  218288.65   \n",
       "ElasticNetCV                                -0.04       0.01  380708.80   \n",
       "DummyRegressor                              -0.05      -0.00  382397.22   \n",
       "NuSVR                                       -0.08      -0.03  388229.20   \n",
       "SVR                                         -0.12      -0.07  394674.05   \n",
       "QuantileRegressor                           -0.12      -0.07  394840.25   \n",
       "GaussianProcessRegressor                    -0.76      -0.68  495606.28   \n",
       "KernelRidge                                 -1.29      -1.19  565459.12   \n",
       "MLPRegressor                                -2.29      -2.14  677698.80   \n",
       "LinearSVR                                   -2.34      -2.19  682603.85   \n",
       "BayesianRidge                               -7.34      -6.96 1078694.22   \n",
       "\n",
       "                               Time Taken  \n",
       "Model                                      \n",
       "LassoLarsCV                          0.05  \n",
       "OrthogonalMatchingPursuit            0.02  \n",
       "LassoLarsIC                          0.15  \n",
       "LarsCV                               0.04  \n",
       "Lars                                 0.02  \n",
       "OrthogonalMatchingPursuitCV          0.03  \n",
       "RANSACRegressor                      0.16  \n",
       "LinearRegression                     0.17  \n",
       "TransformedTargetRegressor           0.07  \n",
       "HuberRegressor                       0.56  \n",
       "LassoLars                            0.03  \n",
       "RidgeCV                              0.02  \n",
       "SGDRegressor                         0.02  \n",
       "Lasso                                0.02  \n",
       "Ridge                                0.01  \n",
       "LassoCV                              0.09  \n",
       "GradientBoostingRegressor            0.72  \n",
       "DecisionTreeRegressor                0.03  \n",
       "ExtraTreesRegressor                  1.06  \n",
       "RandomForestRegressor                2.08  \n",
       "BaggingRegressor                     0.18  \n",
       "XGBRegressor                         0.16  \n",
       "PassiveAggressiveRegressor           0.32  \n",
       "ElasticNet                           0.01  \n",
       "AdaBoostRegressor                    0.38  \n",
       "ExtraTreeRegressor                   0.02  \n",
       "TweedieRegressor                     0.03  \n",
       "LGBMRegressor                        0.21  \n",
       "HistGradientBoostingRegressor        1.72  \n",
       "KNeighborsRegressor                  0.04  \n",
       "GammaRegressor                       0.02  \n",
       "PoissonRegressor                     0.06  \n",
       "ElasticNetCV                         0.06  \n",
       "DummyRegressor                       0.01  \n",
       "NuSVR                                0.35  \n",
       "SVR                                  0.58  \n",
       "QuantileRegressor                    0.39  \n",
       "GaussianProcessRegressor             1.34  \n",
       "KernelRidge                          0.89  \n",
       "MLPRegressor                         6.92  \n",
       "LinearSVR                            0.02  \n",
       "BayesianRidge                        0.19  "
      ]
     },
     "execution_count": 194,
     "metadata": {},
     "output_type": "execute_result"
    }
   ],
   "source": [
    "from lazypredict.Supervised import LazyRegressor\n",
    "\n",
    "clf =  LazyRegressor(verbose=2, ignore_warnings=True, custom_metric=None)\n",
    "models, predictions = clf.fit(x_train, x_test, y_train, y_test)\n",
    "\n",
    "models"
   ]
  },
  {
   "cell_type": "code",
   "execution_count": 195,
   "metadata": {},
   "outputs": [
    {
     "name": "stdout",
     "output_type": "stream",
     "text": [
      "Fitting 5 folds for each of 162 candidates, totalling 810 fits\n",
      "Fitting 5 folds for each of 162 candidates, totalling 810 fits\n",
      "Model -> Random Forest:  SCORE: 0.7011976994422953.  BEST PARAMETERS: GridSearchCV(cv=5, estimator=RandomForestRegressor(n_jobs=-1), n_jobs=-1,\n",
      "             param_grid={'max_depth': [1, 2, 4, 6, 8, 10],\n",
      "                         'max_features': ['auto', 'sqrt', 'log2'],\n",
      "                         'min_samples_leaf': [1, 2, 4],\n",
      "                         'min_samples_split': [2, 5, 10],\n",
      "                         'n_estimators': [100]},\n",
      "             verbose=2).\n",
      "Model -> Extra Trees:  SCORE: 0.7031944326503994.  BEST PARAMETERS: GridSearchCV(cv=5, estimator=ExtraTreesRegressor(n_jobs=-1), n_jobs=-1,\n",
      "             param_grid={'max_depth': [1, 2, 4, 6, 8, 10],\n",
      "                         'max_features': ['auto', 'sqrt', 'log2'],\n",
      "                         'min_samples_leaf': [1, 2, 4],\n",
      "                         'min_samples_split': [2, 5, 10],\n",
      "                         'n_estimators': [100]},\n",
      "             verbose=2).\n"
     ]
    }
   ],
   "source": [
    "from sklearn.ensemble import RandomForestRegressor, ExtraTreesRegressor\n",
    "from sklearn.model_selection import KFold, GridSearchCV\n",
    "\n",
    "x = df_train.drop(['price'], axis=1)\n",
    "y = df_train['price']\n",
    "\n",
    "random_forest_grid = {'n_estimators': [100],\n",
    "                      'max_features': ['auto', 'sqrt', 'log2'],\n",
    "                      'max_depth': [1, 2, 6, 8, 10],\n",
    "                      'min_samples_split': [2, 5, 10],\n",
    "                      'min_samples_leaf': [1, 2, 4]}\n",
    "forest = RandomForestRegressor(n_jobs=-1)\n",
    "\n",
    "extra_trees_grid = {'n_estimators': [100],\n",
    "                    'max_features': ['auto', 'sqrt', 'log2'],\n",
    "                    'max_depth': [1, 2, 6, 8, 10],\n",
    "                    'min_samples_split': [2, 5, 10],\n",
    "                    'min_samples_leaf': [1, 2, 4]}\n",
    "\n",
    "extra_trees = ExtraTreesRegressor(n_jobs=-1)\n",
    "\n",
    "gridcv_random_forest = GridSearchCV(estimator=forest,\n",
    "                      param_grid=random_forest_grid,\n",
    "                      cv=5,\n",
    "                      n_jobs=-1,\n",
    "                      verbose=2)\n",
    "\n",
    "gridcv_extra_trees = GridSearchCV(estimator=extra_trees,\n",
    "                      param_grid=extra_trees_grid,\n",
    "                      cv=5,\n",
    "                      n_jobs=-1,\n",
    "                      verbose=2)\n",
    "\n",
    "gridcv_random_forest.fit(x, y)\n",
    "gridcv_extra_trees.fit(x, y)\n",
    "\n",
    "print(f\"Model -> Random Forest:  SCORE: {gridcv_random_forest.best_score_}.  BEST PARAMETERS: {gridcv_random_forest}.\")\n",
    "print(f\"Model -> Extra Trees:  SCORE: {gridcv_extra_trees.best_score_}.  BEST PARAMETERS: {gridcv_extra_trees}.\")\n"
   ]
  }
 ],
 "metadata": {
  "kernelspec": {
   "display_name": "Python 3",
   "language": "python",
   "name": "python3"
  },
  "language_info": {
   "codemirror_mode": {
    "name": "ipython",
    "version": 3
   },
   "file_extension": ".py",
   "mimetype": "text/x-python",
   "name": "python",
   "nbconvert_exporter": "python",
   "pygments_lexer": "ipython3",
   "version": "3.12.0"
  }
 },
 "nbformat": 4,
 "nbformat_minor": 2
}
